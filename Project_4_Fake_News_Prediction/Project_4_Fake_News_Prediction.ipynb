{
  "cells": [
    {
      "cell_type": "code",
      "execution_count": null,
      "metadata": {
        "id": "ocKNBkqsWvAC"
      },
      "outputs": [],
      "source": [
        "import pandas as pd\n",
        "import numpy as np\n",
        "import re\n",
        "import nltk\n",
        "from nltk.corpus import stopwords\n",
        "from nltk.stem.porter import PorterStemmer\n",
        "from nltk.stem import WordNetLemmatizer\n",
        "from sklearn.feature_extraction.text import TfidfVectorizer\n",
        "from sklearn.model_selection import train_test_split\n",
        "from sklearn.linear_model import LogisticRegression\n",
        "from sklearn.metrics import accuracy_score"
      ]
    },
    {
      "cell_type": "code",
      "execution_count": null,
      "metadata": {
        "colab": {
          "base_uri": "https://localhost:8080/"
        },
        "id": "fuWrHKJtf0nC",
        "outputId": "76164e20-8480-43a3-908e-ca57796d51bc"
      },
      "outputs": [
        {
          "name": "stdout",
          "output_type": "stream",
          "text": [
            "['a', 'about', 'above', 'after', 'again', 'against', 'ain', 'all', 'am', 'an', 'and', 'any', 'are', 'aren', \"aren't\", 'as', 'at', 'be', 'because', 'been', 'before', 'being', 'below', 'between', 'both', 'but', 'by', 'can', 'couldn', \"couldn't\", 'd', 'did', 'didn', \"didn't\", 'do', 'does', 'doesn', \"doesn't\", 'doing', 'don', \"don't\", 'down', 'during', 'each', 'few', 'for', 'from', 'further', 'had', 'hadn', \"hadn't\", 'has', 'hasn', \"hasn't\", 'have', 'haven', \"haven't\", 'having', 'he', \"he'd\", \"he'll\", 'her', 'here', 'hers', 'herself', \"he's\", 'him', 'himself', 'his', 'how', 'i', \"i'd\", 'if', \"i'll\", \"i'm\", 'in', 'into', 'is', 'isn', \"isn't\", 'it', \"it'd\", \"it'll\", \"it's\", 'its', 'itself', \"i've\", 'just', 'll', 'm', 'ma', 'me', 'mightn', \"mightn't\", 'more', 'most', 'mustn', \"mustn't\", 'my', 'myself', 'needn', \"needn't\", 'no', 'nor', 'not', 'now', 'o', 'of', 'off', 'on', 'once', 'only', 'or', 'other', 'our', 'ours', 'ourselves', 'out', 'over', 'own', 're', 's', 'same', 'shan', \"shan't\", 'she', \"she'd\", \"she'll\", \"she's\", 'should', 'shouldn', \"shouldn't\", \"should've\", 'so', 'some', 'such', 't', 'than', 'that', \"that'll\", 'the', 'their', 'theirs', 'them', 'themselves', 'then', 'there', 'these', 'they', \"they'd\", \"they'll\", \"they're\", \"they've\", 'this', 'those', 'through', 'to', 'too', 'under', 'until', 'up', 've', 'very', 'was', 'wasn', \"wasn't\", 'we', \"we'd\", \"we'll\", \"we're\", 'were', 'weren', \"weren't\", \"we've\", 'what', 'when', 'where', 'which', 'while', 'who', 'whom', 'why', 'will', 'with', 'won', \"won't\", 'wouldn', \"wouldn't\", 'y', 'you', \"you'd\", \"you'll\", 'your', \"you're\", 'yours', 'yourself', 'yourselves', \"you've\"]\n"
          ]
        },
        {
          "name": "stderr",
          "output_type": "stream",
          "text": [
            "[nltk_data] Downloading package stopwords to /root/nltk_data...\n",
            "[nltk_data]   Package stopwords is already up-to-date!\n",
            "[nltk_data] Downloading package wordnet to /root/nltk_data...\n"
          ]
        }
      ],
      "source": [
        "nltk.download('stopwords')\n",
        "nltk.download('wordnet')\n",
        "print (stopwords.words('english'))"
      ]
    },
    {
      "cell_type": "markdown",
      "metadata": {
        "id": "Kornr-7RStx2"
      },
      "source": [
        "Since the dataset was huge I was not able to preprocess it completely by Panda. I manually using excel functions removed all the empty and nan rows, Also fixed the constraints for the value in each column. I am now loading the preprocessed data\n"
      ]
    },
    {
      "cell_type": "code",
      "execution_count": null,
      "metadata": {
        "collapsed": true,
        "id": "atGCXPgKf6Zy"
      },
      "outputs": [],
      "source": [
        "#loading pre processed dataset into dataframe\n",
        "train_dataset = pd.read_csv('/content/train excel.csv')"
      ]
    },
    {
      "cell_type": "code",
      "execution_count": null,
      "metadata": {
        "colab": {
          "base_uri": "https://localhost:8080/"
        },
        "id": "zPOwR6jJVL8o",
        "outputId": "65aa90b8-dfe9-48bc-959a-ebe30499cb76"
      },
      "outputs": [
        {
          "data": {
            "text/plain": [
              "(18208, 5)"
            ]
          },
          "execution_count": 45,
          "metadata": {},
          "output_type": "execute_result"
        }
      ],
      "source": [
        "train_dataset.shape"
      ]
    },
    {
      "cell_type": "code",
      "execution_count": null,
      "metadata": {
        "colab": {
          "base_uri": "https://localhost:8080/",
          "height": 293
        },
        "id": "28rjTWSkVPhu",
        "outputId": "bc53d06f-8735-441f-8a90-3dab030282f2"
      },
      "outputs": [
        {
          "data": {
            "application/vnd.google.colaboratory.intrinsic+json": {
              "summary": "{\n  \"name\": \"train_dataset\",\n  \"rows\": 18208,\n  \"fields\": [\n    {\n      \"column\": \"id\",\n      \"properties\": {\n        \"dtype\": \"string\",\n        \"num_unique_values\": 18208,\n        \"samples\": [\n          \"6707\",\n          \"16728\",\n          \"13479\"\n        ],\n        \"semantic_type\": \"\",\n        \"description\": \"\"\n      }\n    },\n    {\n      \"column\": \"title\",\n      \"properties\": {\n        \"dtype\": \"string\",\n        \"num_unique_values\": 17855,\n        \"samples\": [\n          \"White\",\n          \"There\\u2019s Toxic Air In Your Home and This Is You Can Get Rid of It Naturally\",\n          \"Stephen Bannon, a Rookie Campaign Chief Who \\u2018Loves the Fight\\u2019 - The New York Times\"\n        ],\n        \"semantic_type\": \"\",\n        \"description\": \"\"\n      }\n    },\n    {\n      \"column\": \"author\",\n      \"properties\": {\n        \"dtype\": \"category\",\n        \"num_unique_values\": 3797,\n        \"samples\": [\n          \"Carol Adl\",\n          \"blowfish\",\n          \"Michael\"\n        ],\n        \"semantic_type\": \"\",\n        \"description\": \"\"\n      }\n    },\n    {\n      \"column\": \"text\",\n      \"properties\": {\n        \"dtype\": \"string\",\n        \"num_unique_values\": 17940,\n        \"samples\": [\n          \"Vicar sacked over orgies, hookers & porn after wife exposes his double... Vicar sacked over orgies, hookers & porn after wife exposes his double life By 0 41 \\nA sex addict Church of England vicar who took part in orgies, visited gay saunas and collected \\u201cperverted\\u201d pornography has been sacked after his estranged wife exposed his double life. \\nReverend James Day\\u2019s actions amounted to \\u201cconduct unbecoming and inappropriate,\\u201d a Church of England tribunal found. It has banned him from ministry for life. \\nRead more \\nSpeaking at the tribunal in London, Birte Day said she had collected evidence showing her husband had taken part in group sex, attempted to set up meetings with prostitutes and used a fake name to meet new partners. \\nShe said her husband had stored \\u201ca substantial amount\\u201d of porn on his computer, which she collected on memory sticks presented to the tribunal, according to the Telegraph. \\n\\u201cThere were about 50 short films of men and women in scenes of sexual pleasure and orgies, at least 100 sketches of naked women being tortured and burned, a scene of a gladiator being hit and tortured, many images of naked young men\\u2026 and other sexually explicit material.\\u201d \\nShe said her husband became increasingly open about his \\u201csexual addiction,\\u201d adding: \\u201cHe often said the two most important elements in his life were God and sex.\\u201d \\n\\u201cI think James wanted to hurt me with his sexual activities and was making me feel guilty as I was just \\u2018not good enough,\\u2019\\u201d she said. \\nRead more \\nThe hearing was told the vicar had also been violent towards his wife \\u2013 tightening a scarf around her neck so she couldn\\u2019t breathe, spanking her as punishment for wearing shorts in front of workmen, biting her hand and spitting in her face. \\n\\u201cI had to protect myself by gathering evidence to show that he was not normal, because to others outside the marriage he projected himself to be a successful and respectable person,\\u201d his wife said. \\nShe also referenced an email she had found from Day \\u2013 who is also a psychology professor \\u2013 to his friend. He wrote: \\u201cYou must never desist on account of my priesthood and all to do with vocation \\u2026 Perhaps I should send you photos from a gangbang I participated in \\u2026 to assuage your guilt.\\u201d \\nHis wife also found business cards suggesting Day was visiting gay saunas in Brussels, New York and Italy. He had also created email addresses for himself under different names and identities. \\nThe Bishop\\u2019s Disciplinary Tribunal for the Diocese of Europe concluded Day\\u2019s behavior was not criminal \\u2013 but that standards for clergy \\u201cmust be different.\\u201d \\nIt said it was satisfied the assaults on his wife took place, adding the allegations made against the priest were proved in their entirety. \\nDay did not attend the tribunal but did not contest the proceedings. \\nVia RT . This piece was reprinted by RINF Alternative News with permission or license.\",\n          \"And now we wait. After 18 months of the most surreal, divisive, angry and psychologically exhausting presidential campaign in modern times, there\\u2019s nothing to do but sit in suspense on Election Day. For hour after hour. Which is why The   is giving listeners a better way to pass the time: by answering the big remaining questions from you, our listeners, in a special   episode. We summoned the Times political team to field your inquiries about the candidates, the issues, the polls and how we  \\u2014   and everyone else in the news media  \\u2014   will make the call on Tuesday night about who won. And we answer a nagging question that we keep hearing: What exactly is the future of The  ? Joining us are Maggie Haberman, Amy Chozick, Jonathan Martin, Michael Grynbaum and Nate Cohn. From a desktop or laptop, you can listen by pressing play on the button above. Or if you\\u2019re on a mobile device, the instructions below will help you find and subscribe to the series. On your iPhone or iPad: 1. Open your podcast app. It\\u2019s a   app called \\u201cPodcasts\\u201d with a purple icon. (This link may help.) 2. Search for the series. Tap on the \\u201csearch\\u201d magnifying glass icon at the bottom of the screen, type in \\u201cThe  \\u201d and select it from the list of results. 3. Subscribe. Once on the series page, tap on the \\u201csubscribe\\u201d button to have new episodes sent to your phone free. You may want to adjust your notifications to be alerted when a new episode arrives. 4. Or just sample. If you would rather listen to an episode or two before deciding to subscribe, tap on the episode title from the list on the series page. If you have an internet connection, you\\u2019ll be able to stream the episode. On your Android phone or tablet: 1. Open your podcast app. It\\u2019s a   app called \\u201cPlay Music\\u201d with an    icon. (This link may help.) 2. Search for the series. Click on the magnifying glass icon at the top of the screen, search for the name of the series and select it from the list of results. You may have to scroll down to find the \\u201cPodcasts\\u201d search results. 3. Subscribe. Once on the series page, click on the word \\u201csubscribe\\u201d to have new episodes sent to your phone free. 4. Or just sample. If you would rather listen to an episode or two before deciding to subscribe, click on the episode title from the list on the series page. If you have an internet connection, you\\u2019ll be able to stream the episode.\",\n          \"During her opening statement on Saturday\\u2019s edition of the Fox News Channel\\u2019s \\u201cJustice,\\u201d Judge Jeanine Pirro ripped into 2016 Democratic presidential candidate Hillary Clinton after she blamed WikiLeaks and Jim Comey\\u2019s letter on October 28th for losing the election to President Donald Trump.  Judge Jeanine called Clinton a \\u201closer\\u201d and told her to go back into hiding. \\u201cHillary, snap out of it,\\u201d Pirro said. \\u201cI\\u2019m tired of going through this with you. You\\u2019re a   loser who lost because you were a lousy candidate, you didn\\u2019t have a message, you lied every time you opened your mouth you didn\\u2019t know what states to campaign in, you put our national security at risk with your amateur email setup, you were in a foundation that was nothing more than an organized criminal enterprise parading as a charity, four men died under your watch as you lied about a video, and there [were] a billion dollars missing from the State Department when you left. And I could go on and on, but I just don\\u2019t have the time. So, stop with the poor me nonsense. We\\u2019ve had it with you Clintons always claiming victimhood. The two of you haven\\u2019t followed the rules since the day you both showed up in your bell bottoms in Arkansas. \\u201d She later warned, \\u201cBe careful, Hillary. Be very, very careful. You pulled the wool over Jim Comey\\u2019s eyes once, and you actually got the president to say you\\u2019re a nice lady. Don\\u2019t be so sure you\\u2019re going to get away with your new game, given your illegal,   and incompetent instincts. You\\u2019re a loser, Hillary. Face it. Face it, and get back in the woods!\\u201d Follow Trent Baker on Twitter @MagnifiTrent\"\n        ],\n        \"semantic_type\": \"\",\n        \"description\": \"\"\n      }\n    },\n    {\n      \"column\": \"label\",\n      \"properties\": {\n        \"dtype\": \"number\",\n        \"std\": 0,\n        \"min\": 0,\n        \"max\": 1,\n        \"num_unique_values\": 2,\n        \"samples\": [\n          0,\n          1\n        ],\n        \"semantic_type\": \"\",\n        \"description\": \"\"\n      }\n    }\n  ]\n}",
              "type": "dataframe",
              "variable_name": "train_dataset"
            },
            "text/html": [
              "\n",
              "  <div id=\"df-99dcfa50-930b-4f81-8274-1b9686f4424d\" class=\"colab-df-container\">\n",
              "    <div>\n",
              "<style scoped>\n",
              "    .dataframe tbody tr th:only-of-type {\n",
              "        vertical-align: middle;\n",
              "    }\n",
              "\n",
              "    .dataframe tbody tr th {\n",
              "        vertical-align: top;\n",
              "    }\n",
              "\n",
              "    .dataframe thead th {\n",
              "        text-align: right;\n",
              "    }\n",
              "</style>\n",
              "<table border=\"1\" class=\"dataframe\">\n",
              "  <thead>\n",
              "    <tr style=\"text-align: right;\">\n",
              "      <th></th>\n",
              "      <th>id</th>\n",
              "      <th>title</th>\n",
              "      <th>author</th>\n",
              "      <th>text</th>\n",
              "      <th>label</th>\n",
              "    </tr>\n",
              "  </thead>\n",
              "  <tbody>\n",
              "    <tr>\n",
              "      <th>0</th>\n",
              "      <td>0</td>\n",
              "      <td>House Dem Aide: We Didn’t Even See Comey’s Let...</td>\n",
              "      <td>Darrell Lucus</td>\n",
              "      <td>House Dem Aide: We Didn’t Even See Comey’s Let...</td>\n",
              "      <td>1</td>\n",
              "    </tr>\n",
              "    <tr>\n",
              "      <th>1</th>\n",
              "      <td>1</td>\n",
              "      <td>FLYNN: Hillary Clinton, Big Woman on Campus - ...</td>\n",
              "      <td>Daniel J. Flynn</td>\n",
              "      <td>Ever get the feeling your life circles the rou...</td>\n",
              "      <td>0</td>\n",
              "    </tr>\n",
              "    <tr>\n",
              "      <th>2</th>\n",
              "      <td>2</td>\n",
              "      <td>Why the Truth Might Get You Fired</td>\n",
              "      <td>Consortiumnews.com</td>\n",
              "      <td>Why the Truth Might Get You Fired October 29, ...</td>\n",
              "      <td>1</td>\n",
              "    </tr>\n",
              "    <tr>\n",
              "      <th>3</th>\n",
              "      <td>3</td>\n",
              "      <td>15 Civilians Killed In Single US Airstrike Hav...</td>\n",
              "      <td>Jessica Purkiss</td>\n",
              "      <td>Videos 15 Civilians Killed In Single US Airstr...</td>\n",
              "      <td>1</td>\n",
              "    </tr>\n",
              "    <tr>\n",
              "      <th>4</th>\n",
              "      <td>4</td>\n",
              "      <td>Iranian woman jailed for fictional unpublished...</td>\n",
              "      <td>Howard Portnoy</td>\n",
              "      <td>Print \\nAn Iranian woman has been sentenced to...</td>\n",
              "      <td>1</td>\n",
              "    </tr>\n",
              "  </tbody>\n",
              "</table>\n",
              "</div>\n",
              "    <div class=\"colab-df-buttons\">\n",
              "\n",
              "  <div class=\"colab-df-container\">\n",
              "    <button class=\"colab-df-convert\" onclick=\"convertToInteractive('df-99dcfa50-930b-4f81-8274-1b9686f4424d')\"\n",
              "            title=\"Convert this dataframe to an interactive table.\"\n",
              "            style=\"display:none;\">\n",
              "\n",
              "  <svg xmlns=\"http://www.w3.org/2000/svg\" height=\"24px\" viewBox=\"0 -960 960 960\">\n",
              "    <path d=\"M120-120v-720h720v720H120Zm60-500h600v-160H180v160Zm220 220h160v-160H400v160Zm0 220h160v-160H400v160ZM180-400h160v-160H180v160Zm440 0h160v-160H620v160ZM180-180h160v-160H180v160Zm440 0h160v-160H620v160Z\"/>\n",
              "  </svg>\n",
              "    </button>\n",
              "\n",
              "  <style>\n",
              "    .colab-df-container {\n",
              "      display:flex;\n",
              "      gap: 12px;\n",
              "    }\n",
              "\n",
              "    .colab-df-convert {\n",
              "      background-color: #E8F0FE;\n",
              "      border: none;\n",
              "      border-radius: 50%;\n",
              "      cursor: pointer;\n",
              "      display: none;\n",
              "      fill: #1967D2;\n",
              "      height: 32px;\n",
              "      padding: 0 0 0 0;\n",
              "      width: 32px;\n",
              "    }\n",
              "\n",
              "    .colab-df-convert:hover {\n",
              "      background-color: #E2EBFA;\n",
              "      box-shadow: 0px 1px 2px rgba(60, 64, 67, 0.3), 0px 1px 3px 1px rgba(60, 64, 67, 0.15);\n",
              "      fill: #174EA6;\n",
              "    }\n",
              "\n",
              "    .colab-df-buttons div {\n",
              "      margin-bottom: 4px;\n",
              "    }\n",
              "\n",
              "    [theme=dark] .colab-df-convert {\n",
              "      background-color: #3B4455;\n",
              "      fill: #D2E3FC;\n",
              "    }\n",
              "\n",
              "    [theme=dark] .colab-df-convert:hover {\n",
              "      background-color: #434B5C;\n",
              "      box-shadow: 0px 1px 3px 1px rgba(0, 0, 0, 0.15);\n",
              "      filter: drop-shadow(0px 1px 2px rgba(0, 0, 0, 0.3));\n",
              "      fill: #FFFFFF;\n",
              "    }\n",
              "  </style>\n",
              "\n",
              "    <script>\n",
              "      const buttonEl =\n",
              "        document.querySelector('#df-99dcfa50-930b-4f81-8274-1b9686f4424d button.colab-df-convert');\n",
              "      buttonEl.style.display =\n",
              "        google.colab.kernel.accessAllowed ? 'block' : 'none';\n",
              "\n",
              "      async function convertToInteractive(key) {\n",
              "        const element = document.querySelector('#df-99dcfa50-930b-4f81-8274-1b9686f4424d');\n",
              "        const dataTable =\n",
              "          await google.colab.kernel.invokeFunction('convertToInteractive',\n",
              "                                                    [key], {});\n",
              "        if (!dataTable) return;\n",
              "\n",
              "        const docLinkHtml = 'Like what you see? Visit the ' +\n",
              "          '<a target=\"_blank\" href=https://colab.research.google.com/notebooks/data_table.ipynb>data table notebook</a>'\n",
              "          + ' to learn more about interactive tables.';\n",
              "        element.innerHTML = '';\n",
              "        dataTable['output_type'] = 'display_data';\n",
              "        await google.colab.output.renderOutput(dataTable, element);\n",
              "        const docLink = document.createElement('div');\n",
              "        docLink.innerHTML = docLinkHtml;\n",
              "        element.appendChild(docLink);\n",
              "      }\n",
              "    </script>\n",
              "  </div>\n",
              "\n",
              "\n",
              "    <div id=\"df-fd1e1c5f-0386-4b00-84e4-d354f2b3b613\">\n",
              "      <button class=\"colab-df-quickchart\" onclick=\"quickchart('df-fd1e1c5f-0386-4b00-84e4-d354f2b3b613')\"\n",
              "                title=\"Suggest charts\"\n",
              "                style=\"display:none;\">\n",
              "\n",
              "<svg xmlns=\"http://www.w3.org/2000/svg\" height=\"24px\"viewBox=\"0 0 24 24\"\n",
              "     width=\"24px\">\n",
              "    <g>\n",
              "        <path d=\"M19 3H5c-1.1 0-2 .9-2 2v14c0 1.1.9 2 2 2h14c1.1 0 2-.9 2-2V5c0-1.1-.9-2-2-2zM9 17H7v-7h2v7zm4 0h-2V7h2v10zm4 0h-2v-4h2v4z\"/>\n",
              "    </g>\n",
              "</svg>\n",
              "      </button>\n",
              "\n",
              "<style>\n",
              "  .colab-df-quickchart {\n",
              "      --bg-color: #E8F0FE;\n",
              "      --fill-color: #1967D2;\n",
              "      --hover-bg-color: #E2EBFA;\n",
              "      --hover-fill-color: #174EA6;\n",
              "      --disabled-fill-color: #AAA;\n",
              "      --disabled-bg-color: #DDD;\n",
              "  }\n",
              "\n",
              "  [theme=dark] .colab-df-quickchart {\n",
              "      --bg-color: #3B4455;\n",
              "      --fill-color: #D2E3FC;\n",
              "      --hover-bg-color: #434B5C;\n",
              "      --hover-fill-color: #FFFFFF;\n",
              "      --disabled-bg-color: #3B4455;\n",
              "      --disabled-fill-color: #666;\n",
              "  }\n",
              "\n",
              "  .colab-df-quickchart {\n",
              "    background-color: var(--bg-color);\n",
              "    border: none;\n",
              "    border-radius: 50%;\n",
              "    cursor: pointer;\n",
              "    display: none;\n",
              "    fill: var(--fill-color);\n",
              "    height: 32px;\n",
              "    padding: 0;\n",
              "    width: 32px;\n",
              "  }\n",
              "\n",
              "  .colab-df-quickchart:hover {\n",
              "    background-color: var(--hover-bg-color);\n",
              "    box-shadow: 0 1px 2px rgba(60, 64, 67, 0.3), 0 1px 3px 1px rgba(60, 64, 67, 0.15);\n",
              "    fill: var(--button-hover-fill-color);\n",
              "  }\n",
              "\n",
              "  .colab-df-quickchart-complete:disabled,\n",
              "  .colab-df-quickchart-complete:disabled:hover {\n",
              "    background-color: var(--disabled-bg-color);\n",
              "    fill: var(--disabled-fill-color);\n",
              "    box-shadow: none;\n",
              "  }\n",
              "\n",
              "  .colab-df-spinner {\n",
              "    border: 2px solid var(--fill-color);\n",
              "    border-color: transparent;\n",
              "    border-bottom-color: var(--fill-color);\n",
              "    animation:\n",
              "      spin 1s steps(1) infinite;\n",
              "  }\n",
              "\n",
              "  @keyframes spin {\n",
              "    0% {\n",
              "      border-color: transparent;\n",
              "      border-bottom-color: var(--fill-color);\n",
              "      border-left-color: var(--fill-color);\n",
              "    }\n",
              "    20% {\n",
              "      border-color: transparent;\n",
              "      border-left-color: var(--fill-color);\n",
              "      border-top-color: var(--fill-color);\n",
              "    }\n",
              "    30% {\n",
              "      border-color: transparent;\n",
              "      border-left-color: var(--fill-color);\n",
              "      border-top-color: var(--fill-color);\n",
              "      border-right-color: var(--fill-color);\n",
              "    }\n",
              "    40% {\n",
              "      border-color: transparent;\n",
              "      border-right-color: var(--fill-color);\n",
              "      border-top-color: var(--fill-color);\n",
              "    }\n",
              "    60% {\n",
              "      border-color: transparent;\n",
              "      border-right-color: var(--fill-color);\n",
              "    }\n",
              "    80% {\n",
              "      border-color: transparent;\n",
              "      border-right-color: var(--fill-color);\n",
              "      border-bottom-color: var(--fill-color);\n",
              "    }\n",
              "    90% {\n",
              "      border-color: transparent;\n",
              "      border-bottom-color: var(--fill-color);\n",
              "    }\n",
              "  }\n",
              "</style>\n",
              "\n",
              "      <script>\n",
              "        async function quickchart(key) {\n",
              "          const quickchartButtonEl =\n",
              "            document.querySelector('#' + key + ' button');\n",
              "          quickchartButtonEl.disabled = true;  // To prevent multiple clicks.\n",
              "          quickchartButtonEl.classList.add('colab-df-spinner');\n",
              "          try {\n",
              "            const charts = await google.colab.kernel.invokeFunction(\n",
              "                'suggestCharts', [key], {});\n",
              "          } catch (error) {\n",
              "            console.error('Error during call to suggestCharts:', error);\n",
              "          }\n",
              "          quickchartButtonEl.classList.remove('colab-df-spinner');\n",
              "          quickchartButtonEl.classList.add('colab-df-quickchart-complete');\n",
              "        }\n",
              "        (() => {\n",
              "          let quickchartButtonEl =\n",
              "            document.querySelector('#df-fd1e1c5f-0386-4b00-84e4-d354f2b3b613 button');\n",
              "          quickchartButtonEl.style.display =\n",
              "            google.colab.kernel.accessAllowed ? 'block' : 'none';\n",
              "        })();\n",
              "      </script>\n",
              "    </div>\n",
              "\n",
              "    </div>\n",
              "  </div>\n"
            ],
            "text/plain": [
              "  id  ... label\n",
              "0  0  ...     1\n",
              "1  1  ...     0\n",
              "2  2  ...     1\n",
              "3  3  ...     1\n",
              "4  4  ...     1\n",
              "\n",
              "[5 rows x 5 columns]"
            ]
          },
          "execution_count": 46,
          "metadata": {},
          "output_type": "execute_result"
        }
      ],
      "source": [
        "train_dataset.head()\n"
      ]
    },
    {
      "cell_type": "code",
      "execution_count": null,
      "metadata": {
        "colab": {
          "base_uri": "https://localhost:8080/",
          "height": 241
        },
        "id": "__Qgfpx2VrFO",
        "outputId": "fd6833ea-fa1e-4aa3-91d8-fefe4ffc9761"
      },
      "outputs": [
        {
          "data": {
            "text/html": [
              "<div>\n",
              "<style scoped>\n",
              "    .dataframe tbody tr th:only-of-type {\n",
              "        vertical-align: middle;\n",
              "    }\n",
              "\n",
              "    .dataframe tbody tr th {\n",
              "        vertical-align: top;\n",
              "    }\n",
              "\n",
              "    .dataframe thead th {\n",
              "        text-align: right;\n",
              "    }\n",
              "</style>\n",
              "<table border=\"1\" class=\"dataframe\">\n",
              "  <thead>\n",
              "    <tr style=\"text-align: right;\">\n",
              "      <th></th>\n",
              "      <th>0</th>\n",
              "    </tr>\n",
              "  </thead>\n",
              "  <tbody>\n",
              "    <tr>\n",
              "      <th>id</th>\n",
              "      <td>0</td>\n",
              "    </tr>\n",
              "    <tr>\n",
              "      <th>title</th>\n",
              "      <td>0</td>\n",
              "    </tr>\n",
              "    <tr>\n",
              "      <th>author</th>\n",
              "      <td>0</td>\n",
              "    </tr>\n",
              "    <tr>\n",
              "      <th>text</th>\n",
              "      <td>0</td>\n",
              "    </tr>\n",
              "    <tr>\n",
              "      <th>label</th>\n",
              "      <td>0</td>\n",
              "    </tr>\n",
              "  </tbody>\n",
              "</table>\n",
              "</div><br><label><b>dtype:</b> int64</label>"
            ],
            "text/plain": [
              "id        0\n",
              "title     0\n",
              "author    0\n",
              "text      0\n",
              "label     0\n",
              "dtype: int64"
            ]
          },
          "execution_count": 47,
          "metadata": {},
          "output_type": "execute_result"
        }
      ],
      "source": [
        "train_dataset.isnull().sum()"
      ]
    },
    {
      "cell_type": "code",
      "execution_count": null,
      "metadata": {
        "id": "59lvKI5YWxNv"
      },
      "outputs": [],
      "source": [
        "#Merging the title, author, and text column together\n",
        "train_dataset['content'] = train_dataset['title'] + ' ' + train_dataset['author'] + ' ' + train_dataset['text']"
      ]
    },
    {
      "cell_type": "code",
      "execution_count": null,
      "metadata": {
        "colab": {
          "base_uri": "https://localhost:8080/"
        },
        "id": "FnrxCc55Xso4",
        "outputId": "97f6ff04-5804-49ee-e51b-53b5e942931f"
      },
      "outputs": [
        {
          "name": "stdout",
          "output_type": "stream",
          "text": [
            "0        House Dem Aide: We Didn’t Even See Comey’s Let...\n",
            "1        FLYNN: Hillary Clinton, Big Woman on Campus - ...\n",
            "2        Why the Truth Might Get You Fired Consortiumne...\n",
            "3        15 Civilians Killed In Single US Airstrike Hav...\n",
            "4        Iranian woman jailed for fictional unpublished...\n",
            "                               ...                        \n",
            "18203    Rapper T.I.: Trump a ’Poster Child For White S...\n",
            "18204    N.F.L. Playoffs: Schedule, Matchups and Odds -...\n",
            "18205    Macy’s Is Said to Receive Takeover Approach by...\n",
            "18206    NATO, Russia To Hold Parallel Exercises In Bal...\n",
            "18207    What Keeps the F-35 Alive David Swanson   Davi...\n",
            "Name: content, Length: 18208, dtype: object\n"
          ]
        }
      ],
      "source": [
        "print(train_dataset['content'])"
      ]
    },
    {
      "cell_type": "code",
      "execution_count": null,
      "metadata": {
        "id": "oqPVQVzeY37L"
      },
      "outputs": [],
      "source": [
        "x = train_dataset.drop(columns = 'label', axis = 1)\n",
        "y = train_dataset['label']"
      ]
    },
    {
      "cell_type": "code",
      "execution_count": null,
      "metadata": {
        "id": "AGPjqPKOaGee"
      },
      "outputs": [],
      "source": [
        "lematizer = WordNetLemmatizer()"
      ]
    },
    {
      "cell_type": "code",
      "execution_count": null,
      "metadata": {
        "id": "tC0AKNTZbKmO"
      },
      "outputs": [],
      "source": [
        "def lemmatizing(content):\n",
        "    lem_content = re.sub('[^a-zA-Z]', ' ', content)        # Remove non-alphabet characters\n",
        "    lem_content = lem_content.lower()                      # Lowercase\n",
        "    lem_content = lem_content.split()                      # Tokenize\n",
        "    lem_content = [lematizer.lemmatize(word)               # Lemmatize\n",
        "                   for word in lem_content\n",
        "                   if not word in stopwords.words('english')]  # Remove stopwords\n",
        "    lem_content = ' '.join(lem_content)                    # Join back to string\n",
        "    return lem_content"
      ]
    },
    {
      "cell_type": "code",
      "execution_count": null,
      "metadata": {
        "id": "Ygu6fYhFe8zf"
      },
      "outputs": [],
      "source": [
        "train_dataset['content'] = train_dataset['content'].apply(lemmatizing)"
      ]
    },
    {
      "cell_type": "code",
      "execution_count": null,
      "metadata": {
        "colab": {
          "base_uri": "https://localhost:8080/"
        },
        "id": "_ajSuItefdCW",
        "outputId": "e7b7bf30-21fe-40f0-de31-870a309910bc"
      },
      "outputs": [
        {
          "name": "stdout",
          "output_type": "stream",
          "text": [
            "0        house dem aide even see comey letter jason cha...\n",
            "1        flynn hillary clinton big woman campus breitba...\n",
            "2        truth might get fired consortiumnews com truth...\n",
            "3        civilian killed single u airstrike identified ...\n",
            "4        iranian woman jailed fictional unpublished sto...\n",
            "                               ...                        \n",
            "18203    rapper trump poster child white supremacy jero...\n",
            "18204    n f l playoff schedule matchup odds new york t...\n",
            "18205    macy said receive takeover approach hudson bay...\n",
            "18206    nato russia hold parallel exercise balkan alex...\n",
            "18207    keep f alive david swanson david swanson autho...\n",
            "Name: content, Length: 18208, dtype: object\n"
          ]
        }
      ],
      "source": [
        "print(train_dataset['content'])"
      ]
    },
    {
      "cell_type": "code",
      "execution_count": null,
      "metadata": {
        "id": "-foVlOxvnBys"
      },
      "outputs": [],
      "source": [
        "x = train_dataset['content'].values\n",
        "y = train_dataset['label'].values"
      ]
    },
    {
      "cell_type": "code",
      "execution_count": null,
      "metadata": {
        "colab": {
          "base_uri": "https://localhost:8080/"
        },
        "id": "bm816W0AnwOg",
        "outputId": "a6b59c57-9518-4bac-8524-282745e5e928"
      },
      "outputs": [
        {
          "name": "stdout",
          "output_type": "stream",
          "text": [
            "['house dem aide even see comey letter jason chaffetz tweeted darrell lucus house dem aide even see comey letter jason chaffetz tweeted darrell lucus october subscribe jason chaffetz stump american fork utah image courtesy michael jolley available creative common license apology keith olbermann doubt worst person world week fbi director james comey according house democratic aide look like also know second worst person well turn comey sent infamous letter announcing fbi looking email may related hillary clinton email server ranking democrat relevant committee hear comey found via tweet one republican committee chairman know comey notified republican chairman democratic ranking member house intelligence judiciary oversight committee agency reviewing email recently discovered order see contained classified information long letter went oversight committee chairman jason chaffetz set political world ablaze tweet fbi dir informed fbi learned existence email appear pertinent investigation case reopened jason chaffetz jasoninthehouse october course know case comey actually saying reviewing email light unrelated case know anthony weiner sexting teenager apparently little thing fact matter chaffetz utah republican already vowed initiate raft investigation hillary win least two year worth possibly entire term worth apparently chaffetz thought fbi already work resulting tweet briefly roiled nation cooler head realized dud according senior house democratic aide misreading letter may least chaffetz sin aide told shareblue bos democrat even know comey letter time found checked twitter democratic ranking member relevant committee receive comey letter republican chairman fact democratic ranking member receive chairman oversight government reform committee jason chaffetz tweeted made public let see got right fbi director tell chaffetz gop committee chairman major development potentially politically explosive investigation neither chaffetz colleague courtesy let democratic counterpart know instead according aide made find twitter already talk daily ko comey provided advance notice letter chaffetz republican giving time turn spin machine may make good theater nothing far even suggests case nothing far suggests comey anything grossly incompetent tone deaf suggest however chaffetz acting way make dan burton darrell issa look like model responsibility bipartisanship even decency notify ranking member elijah cummings something explosive trample basic standard fairness know granted likely chaffetz answer sits ridiculously republican district anchored provo orem cook partisan voting index r gave mitt romney punishing percent vote moreover republican house leadership given full support chaffetz planned fishing expedition mean turn hot light textbook example house become republican control also second worst person world darrell lucus darrell something graduate university north carolina considers journalist old school attempt turn member religious right college succeeded turning religious right worst nightmare charismatic christian unapologetic liberal desire stand scared silence increased survived abusive three year marriage may know daily ko christian dem nc follow twitter darrelllucus connect facebook click buy darrell mello yello connect'\n",
            " 'flynn hillary clinton big woman campus breitbart daniel j flynn ever get feeling life circle roundabout rather head straight line toward intended destination hillary clinton remains big woman campus leafy liberal wellesley massachusetts everywhere else vote likely inauguration dress remainder day way miss havisham forever wore wedding dress speaking great expectation hillary rodham overflowed year ago first addressed wellesley graduating class president college informed gathered student needed debate far could ascertain spokesman kind like democratic primary minus term unknown even seven sister school glad miss adam made clear speaking today u u miss rodham told classmate appointing edger bergen charlie mccarthy mortimer snerds attendance bespectacled granny glass awarding matronly wisdom least john lennon wisdom took issue previous speaker despite becoming first win election seat u senate since reconstruction edward brooke came criticism calling empathy goal protestors criticized tactic though clinton senior thesis saul alinsky lamented black power demagogue elitist arrogance repressive intolerance within new left similar word coming republican necessitated brief rebuttal trust rodham ironically observed one word asked class rehearsal wanted say everyone came said talk trust talk lack trust u way feel others talk trust bust say say feeling permeates generation perhaps even understood distrusted trust bust certainly busted clinton plan certainly even understand people distrusted whitewater travelgate vast conspiracy benghazi missing email clinton found distrusted voice friday load compromising road broadening political horizon distrust american people trump edged percent percent question immediately prior november election stood major reason closing horizon clinton described vanquisher supporter embracing lie con alternative fact assault truth reason failed explain american people chose lie truth history major among today know well people power invent fact attack question mark beginning end free society offered hyperbole like many people emerge hillary clinton embarked upon long strange trip high school goldwater girl wellesley college republican president democratic politician clinton drank time place gave degree significantly went idealist cynic comparison two wellesley commencement address show way back lamented long leader viewed politics art possible challenge practice politics art making appears impossible possible big woman campus odd woman white house wonder current station even possible point ahead asked september may asks president woman famously dubbed congenital liar bill safire concludes lie mind getting stood election day like finding jilted bride wedding day inspires dangerous delusion'\n",
            " 'truth might get fired consortiumnews com truth might get fired october tension intelligence analyst political policymakers always honest assessment desired result latter often overwhelming former iraq war writes lawrence davidson lawrence davidson might wonder foreign policy maker repeatedly make bad choice insight might drawn following analysis action play united state lesson probably universal back early spring george w bush initiated invasion iraq one key public reason claim country dictator saddam hussein verge developing nuclear weapon hiding weapon mass destruction real reason went beyond charge included long range plan regime change middle east president george w bush vice president dick cheney receive oval office briefing cia director george tenet also present chief staff andy card right white house photo purpose concentrate belief iraq become hostile nuclear power president bush close associate accept scenario readily short answer bush wanted indeed needed believe rationale invading iraq first tried connect saddam hussein attack u though never gave stratagem lack evidence made difficult rally american people already fixated afghanistan support war baghdad nuclear weapon gambit proved fruitful hard evidence charge supposedly reliable witness person exiled anti saddam iraqi many u government payroll kept telling bush adviser nuclear story true u leadership cadre whose worldview literally demanded mortally dangerous iraq informant order precipitate overthrow saddam willing tell tale pending atomic weapon strong desire believe tale nuclear iraq lowered threshold proof likewise repeated assertion assumed dependable iraqi source underpinned nationwide u campaign generating fear war fever u ally insisted united nation send weapon inspector scour iraq evidence nuclear weapon program well chemical biological weapon inspector could find convincing evidence frustrated bush administration soon forced hand march bush launched invasion iraq expectation occupation country u inspector would surely find evidence nuke least stockpile chemical biological weapon iraqi informant systematically lied social behavioral science rescue various u intelligence agency thoroughly shaken affair today year later director manager still trying sort specifically tell getting true intelligence lied one intelligence worker put need help protect u army snake oil salesman end cia et al market academic assistance ahmed chalabi head iraqi national congress key supplier iraqi defector bogus story hidden wmd partnership forged office director national intelligence odni serf coordinating center sixteen independent u intelligence agency national academy science engineering medicine result collaboration permanent intelligence community study board coordinate program social behavioral science research might strengthen national security despite effort almost certain social behavioral science cannot give spy agency want way detecting lie better present standard procedure polygraph test interrogation even could might well make difference real problem found liar found believer believer simply true odni leader seem assert u intelligence agency personnel cannot tell often lied case thousand middle echelon intelligence worker desk officer specialist know something closely approaching truth know pretty well going place like afghanistan iraq syria libya israel palestine elsewhere director national intelligence james clapper right talk president barack obama oval office john brennan national security aide present photo credit office director national intelligence therefore someone feed snake oil usually know however accurate grasp thing often avail superior got appointment accepting pre structured worldview different criterion true analyst listen charles gaukel national intelligence council yet another organization act meeting ground intelligence agency referring search way avoid getting taken lie gaukel declared looking truth particularly looking truth work might mean certainly tell mean historically mean power broker truth must match fit worldview political ideological precept fit work intelligence specialist send usually accurate assessment line policy maker often hit roadblock caused group think ideological blinker know better attitude hand long selling leadership match want believe peddle anything imaginary iraqi nuke israel western style democracy saudi arabia indispensable ally libya liberated country bashar al assad real roadblock peace syria strategic defense initiative sdi aka star war world getting colder warmer american exceptionalism glory list almost endless sad tale tell u want spend million dollar social behavioral science research improve assessment use intelligence forget liar want look antidote narrow mindedness believer policymakers seem able rise ideological presumption class presumption underpin self confidence lead u slippery slope happened way often many place source shakespeare determination past prelude elite play destiny free capacity break structured way seeing yet middle echelon specialist keep sending relatively accurate assessment ladder power hope spring eternal'\n",
            " ...\n",
            " 'macy said receive takeover approach hudson bay new york time michael j de la merced rachel abrams macy today grew union several great name american retailing including namesake chain bloomingdale marshall field ambitious owner saks fifth avenue broached idea taking union even combining macy create department store juggernaut time industry reeling hudson bay company canadian owner saks approached macy potential takeover people briefed matter authorized speak publicly said friday talk two company early stage may still fall apart lead partnership kind rather sale unclear whether deal happen combination could lift fortune macy country biggest department store struggling investor certainly appeared see way share macy rose much percent friday biggest intraday gain since aug according data bloomberg retail titan macy struggled remain relevant discount retailer decimated traditional business last month macy announced plan cut job close store terry lundgren chief executive architect macy last big merger expected step end march succeeded company president jeffrey gennette since recession shopper grown accustomed hunt bargain pay full price discount store outlet mall flourished traditional store compelled respond trimming price cut margin department store hit especially hard particularly shopper migrate away mall emerged analyst say virtual race bottom particularly difficult macy born series merger past two decade made juggernaut industry stalwart middle tier retail company neither advantage retailer like hm store addition macy face increasingly fierce competition online site like amazon elsewhere macy trouble drawn attention prominent activist hedge fund starboard value urged company generate cash selling real estate beneath store starboard held percent macy share sept previously estimated value land billion friday analyst citigroup estimated macy holding could worth least billion macy market value comparison billion friday morning macy taken step sell redevelop store last year added expert real estate transaction board company largely resisted ambitious effort divest real estate including deal company sell underlying land beneath store rent back company suitor hudson bay company far smaller market value billion canadian dollar billion known bold step hudson bay company assembled growing empire includes hudson bay department store chain lord taylor crown jewel saks governor executive chairman hudson bay company richard baker shown little fear using debt november company borrowed nearly billion saks flagship midtown manhattan spoken often retailer need highlight value real estate financing bid macy may trickier however carry billion debt may mean hudson bay company bring partner borrow real estate holding spokesman hudson bay company declined comment talk reported earlier wall street journal comment rumor speculation representative macy said representative starboard value respond request comment analyst said saw merit potential combination particularly given macy operational woe mr baker expertise wringing money real estate clear logic despite disparity cap macy hudson bay company craig johnson president customer growth partner research firm said note referring macy stock ticker symbol added retail market changing faster able keep whether flight mall migration online'\n",
            " 'nato russia hold parallel exercise balkan alex ansary nato russia hold parallel exercise balkan press tv russia military nato force holding parallel military exercise two neighboring balkan country russian troop participate war game serbia nato conducting military drill montenegro medium reported monday russian force day military exercise serbia named slavic brotherhood begin wednesday include russian paratrooper air force staffer three transport plane unspecified number troop serbia belarus russia defense ministry said five day nato drill montenegro started monday involves responding flood chemical attack involve unarmed personnel seven nato country partner state past serbia montenegro constitutional republic socialist federal republic yugoslavia country socialist republic traditional russian christian orthodox ally state union formed serbia montenegro two became independent state since split two balkan neighbor seem headed different direction strategically montenegro taken pro western stance awarded nato offer join northern atlantic alliance nato invitation montenegro met strong opposition russia meanwhile montenegrin official accused russia staging alleged coup october topple pro western government nato accession bid serbia nato partner held exercise western alliance large one foreign troop equipment participating soil'\n",
            " 'keep f alive david swanson david swanson author activist journalist radio host nobel peace prize nominee director worldbeyondwar com campaign coordinator rootsaction org host talk nation radio talk nation radio vt radio syndicated pacifica network show also air wtju charlottesville va wcsx detroit mi kghi westport wa whus storrs ct wprr grand rapid mi krfp lp moscow id kzgm cabool mo kmud garberville ca wazu peoria il wxrd crown point geneva radio geneva ny kkrn round mountain ca kskq lp ashland wuow lp oneonta ny lie radio pinole ca wyap lp clay wv detour johnson city tn wzrd chicago il weft champaign il wxpi pittsburgh pa wdrt viroqua wi veracity online liberty justice radio shirley ithaca community radio ithaca ny wmcb greenfield prx org kaos fm olympia wa wusb fm stony brook ny wool fm bellow fall vermont wslr lp sarasota florida also blog davidswanson org warisacrime org prolific author latest book war lie daybreak undoing imperial presidency forming perfect union world outlawed war swanson hold master degree philosophy university virginia worked newspaper reporter communication director job including press secretary dennis kucinich presidential campaign medium coordinator international labor communication association three year communication coordinator acorn association community organization reform read full complete biography davidswanson org also visit book site war crime keep f alive david swanson october petition stop f going global david swanson imagine local business town invented brand new tool intended almost magical effect thousand mile away however tool kept used locally became area unsafe child child got near tool tended increased blood pressure increased stress hormone lower reading skill poorer memory impaired auditory speech perception impaired academic performance u would find situation least little concerning unless new invention designed murder lot people fine imagine new tool ruined neighborhood people safely live near imagine government compensate people kick living near location tool think might find troubling mass murder mission imagine also tool fairly frequently explodes emitting highly toxic chemical particle fiber unsafe breathe air mile around normally problem tool needed killing lot people work flaw new gadget expected cost least year money taken away numerous expense beneficial economy world trillion drained economy causing loss job radical diminuition resource education healthcare housing environmental protection humanitarian aid worry case mean case ability kill ton human being stake product even working perfectly leading destroyer earth natural environment high tech toy even designed expected even able designed amazingly even shortcoming matter long intention massive murder destruction forgiven tool describing called f rootsaction org find new petition launched locally minded people acting globally place f intended based also link find explanation tool decribing f petition directed united state congress government australia italy netherlands norway turkey united kingdom israel japan south korea world people burlington vermont fairbanks alaska f based effort initiated vermont stop f coalition save sky vermont western maine matter alaska peace center university alaska fairbanks peace club north star chapter veteran peace world beyond war rootsaction org code pink ben cohen petition read f weapon offensive war serving defensive purpose planned cost u trillion year starvation earth could ended billion lack clean drinking water billion per year first foremost wasting resource airplane kill military spending contrary popular misconception also hurt u economy see economy f cause negative health impact cognitive impairment child living near base render housing near airport unsuitable residential use high crash rate horrible consequence living area crash emission major environmental polluter war endangering united state participating nation rather protecting nonviolent tool law diplomacy aid crisis prevention verifiable nuclear disarmament substituted continuing counterproductive war therefore undersigned call immediate cancellation f program whole immediate cancellation plan base dangerous noisy jet near populated area oppose replacing f weapon basing f location demand redirection money f back taxpayer pocket environmental human need u f customer nation around world including fight climate change pay student debt rebuild crumbling infrastructure improve education healthcare housing add name david swanson author activist journalist radio host director worldbeyondwar org campaign coordinator rootsaction org swanson book include war lie blog davidswanson org warisacrime org host talk nation radio nobel peace prize nominee follow twitter davidcnswanson facebook help support davidswanson org warisacrime org talknationradio org clicking http davidswanson org donate']\n"
          ]
        }
      ],
      "source": [
        "print (x)"
      ]
    },
    {
      "cell_type": "code",
      "execution_count": null,
      "metadata": {
        "colab": {
          "base_uri": "https://localhost:8080/"
        },
        "id": "Hfgr_Qfqn08e",
        "outputId": "e76b12bd-7940-420d-9354-2995429b4413"
      },
      "outputs": [
        {
          "data": {
            "text/plain": [
              "(18208,)"
            ]
          },
          "execution_count": 66,
          "metadata": {},
          "output_type": "execute_result"
        }
      ],
      "source": [
        "x.shape"
      ]
    },
    {
      "cell_type": "code",
      "execution_count": null,
      "metadata": {
        "colab": {
          "base_uri": "https://localhost:8080/"
        },
        "id": "jZr5xIOCoBoU",
        "outputId": "bec0c7ae-f3ee-4562-fab1-025d1d2859c4"
      },
      "outputs": [
        {
          "name": "stdout",
          "output_type": "stream",
          "text": [
            "[1 0 1 ... 0 1 1]\n"
          ]
        }
      ],
      "source": [
        "print(y)"
      ]
    },
    {
      "cell_type": "code",
      "execution_count": null,
      "metadata": {
        "colab": {
          "base_uri": "https://localhost:8080/"
        },
        "id": "WNXM5T8XoIa6",
        "outputId": "20de7caf-cf3c-47f8-a891-8f2fecf6fcac"
      },
      "outputs": [
        {
          "data": {
            "text/plain": [
              "(18208,)"
            ]
          },
          "execution_count": 68,
          "metadata": {},
          "output_type": "execute_result"
        }
      ],
      "source": [
        "y.shape"
      ]
    },
    {
      "cell_type": "code",
      "execution_count": null,
      "metadata": {
        "id": "YUCx1fGGoOi4"
      },
      "outputs": [],
      "source": [
        "#converting textual data to numerical data\n",
        "vectorizer = TfidfVectorizer()\n",
        "vectorizer.fit(x)\n",
        "x = vectorizer.transform(x)"
      ]
    },
    {
      "cell_type": "code",
      "execution_count": null,
      "metadata": {
        "colab": {
          "base_uri": "https://localhost:8080/"
        },
        "id": "cqxXCGPipxZY",
        "outputId": "c86cdb22-24b2-4f9e-fb2b-ecfbd75041db"
      },
      "outputs": [
        {
          "name": "stdout",
          "output_type": "stream",
          "text": [
            "<Compressed Sparse Row sparse matrix of dtype 'float64'\n",
            "\twith 4895990 stored elements and shape (18208, 127043)>\n",
            "  Coords\tValues\n",
            "  (0, 337)\t0.04350669584952562\n",
            "  (0, 598)\t0.03501282059439111\n",
            "  (0, 772)\t0.03835184693663968\n",
            "  (0, 1083)\t0.02424733787994068\n",
            "  (0, 1149)\t0.017126013123730084\n",
            "  (0, 1620)\t0.02421007957830971\n",
            "  (0, 2003)\t0.01768472599497188\n",
            "  (0, 2306)\t0.13619893351938941\n",
            "  (0, 3476)\t0.04579559364978506\n",
            "  (0, 3495)\t0.018344094224462596\n",
            "  (0, 3869)\t0.011502472767929815\n",
            "  (0, 4283)\t0.04177478284928586\n",
            "  (0, 4735)\t0.029326416092614983\n",
            "  (0, 4860)\t0.02016922700502441\n",
            "  (0, 4919)\t0.026272891197791477\n",
            "  (0, 5213)\t0.017531069635464802\n",
            "  (0, 5394)\t0.031300501481100154\n",
            "  (0, 5449)\t0.04563139868477495\n",
            "  (0, 5459)\t0.021289625477937342\n",
            "  (0, 7359)\t0.019989680093978245\n",
            "  (0, 7985)\t0.020682278074052814\n",
            "  (0, 9710)\t0.024315007149550073\n",
            "  (0, 10248)\t0.015466430667164178\n",
            "  (0, 12143)\t0.04776383810942951\n",
            "  (0, 13721)\t0.028880478559500163\n",
            "  :\t:\n",
            "  (18207, 122794)\t0.01831621949650066\n",
            "  (18207, 122829)\t0.04175271015328687\n",
            "  (18207, 123184)\t0.016965005165194526\n",
            "  (18207, 123229)\t0.048705645086903594\n",
            "  (18207, 123243)\t0.033937863285056824\n",
            "  (18207, 123972)\t0.048705645086903594\n",
            "  (18207, 124233)\t0.035351482770761215\n",
            "  (18207, 124287)\t0.0110500403365571\n",
            "  (18207, 124295)\t0.016274810193617113\n",
            "  (18207, 124304)\t0.013936074876826422\n",
            "  (18207, 124324)\t0.0528005081627008\n",
            "  (18207, 124326)\t0.09452556144631039\n",
            "  (18207, 124363)\t0.020462401649924942\n",
            "  (18207, 124410)\t0.007836292630949116\n",
            "  (18207, 124448)\t0.048705645086903594\n",
            "  (18207, 124584)\t0.048705645086903594\n",
            "  (18207, 124608)\t0.048705645086903594\n",
            "  (18207, 124631)\t0.048705645086903594\n",
            "  (18207, 124644)\t0.048705645086903594\n",
            "  (18207, 124659)\t0.04522917762009523\n",
            "  (18207, 124691)\t0.048705645086903594\n",
            "  (18207, 124692)\t0.048705645086903594\n",
            "  (18207, 124698)\t0.048705645086903594\n",
            "  (18207, 124753)\t0.048705645086903594\n",
            "  (18207, 125329)\t0.03168051865007739\n"
          ]
        }
      ],
      "source": [
        "print (x)"
      ]
    },
    {
      "cell_type": "code",
      "execution_count": null,
      "metadata": {
        "id": "BzzmPLIBqEzO"
      },
      "outputs": [],
      "source": [
        "#splitting the dataset into training and text data\n",
        "x_train, x_test, y_train, y_test = train_test_split(x, y, test_size = 0.2, stratify = y, random_state = 2)"
      ]
    },
    {
      "cell_type": "code",
      "execution_count": null,
      "metadata": {
        "id": "EEhk0CqdrQaC"
      },
      "outputs": [],
      "source": [
        "#Training the logistic regression model"
      ]
    },
    {
      "cell_type": "code",
      "execution_count": null,
      "metadata": {
        "id": "jN4rxr68rUSC"
      },
      "outputs": [],
      "source": [
        "model = LogisticRegression()"
      ]
    },
    {
      "cell_type": "code",
      "execution_count": null,
      "metadata": {
        "colab": {
          "base_uri": "https://localhost:8080/",
          "height": 80
        },
        "id": "z65zYOLRrW-9",
        "outputId": "387df1aa-4ac2-4823-e4c7-a100daac942f"
      },
      "outputs": [
        {
          "data": {
            "text/html": [
              "<style>#sk-container-id-1 {\n",
              "  /* Definition of color scheme common for light and dark mode */\n",
              "  --sklearn-color-text: #000;\n",
              "  --sklearn-color-text-muted: #666;\n",
              "  --sklearn-color-line: gray;\n",
              "  /* Definition of color scheme for unfitted estimators */\n",
              "  --sklearn-color-unfitted-level-0: #fff5e6;\n",
              "  --sklearn-color-unfitted-level-1: #f6e4d2;\n",
              "  --sklearn-color-unfitted-level-2: #ffe0b3;\n",
              "  --sklearn-color-unfitted-level-3: chocolate;\n",
              "  /* Definition of color scheme for fitted estimators */\n",
              "  --sklearn-color-fitted-level-0: #f0f8ff;\n",
              "  --sklearn-color-fitted-level-1: #d4ebff;\n",
              "  --sklearn-color-fitted-level-2: #b3dbfd;\n",
              "  --sklearn-color-fitted-level-3: cornflowerblue;\n",
              "\n",
              "  /* Specific color for light theme */\n",
              "  --sklearn-color-text-on-default-background: var(--sg-text-color, var(--theme-code-foreground, var(--jp-content-font-color1, black)));\n",
              "  --sklearn-color-background: var(--sg-background-color, var(--theme-background, var(--jp-layout-color0, white)));\n",
              "  --sklearn-color-border-box: var(--sg-text-color, var(--theme-code-foreground, var(--jp-content-font-color1, black)));\n",
              "  --sklearn-color-icon: #696969;\n",
              "\n",
              "  @media (prefers-color-scheme: dark) {\n",
              "    /* Redefinition of color scheme for dark theme */\n",
              "    --sklearn-color-text-on-default-background: var(--sg-text-color, var(--theme-code-foreground, var(--jp-content-font-color1, white)));\n",
              "    --sklearn-color-background: var(--sg-background-color, var(--theme-background, var(--jp-layout-color0, #111)));\n",
              "    --sklearn-color-border-box: var(--sg-text-color, var(--theme-code-foreground, var(--jp-content-font-color1, white)));\n",
              "    --sklearn-color-icon: #878787;\n",
              "  }\n",
              "}\n",
              "\n",
              "#sk-container-id-1 {\n",
              "  color: var(--sklearn-color-text);\n",
              "}\n",
              "\n",
              "#sk-container-id-1 pre {\n",
              "  padding: 0;\n",
              "}\n",
              "\n",
              "#sk-container-id-1 input.sk-hidden--visually {\n",
              "  border: 0;\n",
              "  clip: rect(1px 1px 1px 1px);\n",
              "  clip: rect(1px, 1px, 1px, 1px);\n",
              "  height: 1px;\n",
              "  margin: -1px;\n",
              "  overflow: hidden;\n",
              "  padding: 0;\n",
              "  position: absolute;\n",
              "  width: 1px;\n",
              "}\n",
              "\n",
              "#sk-container-id-1 div.sk-dashed-wrapped {\n",
              "  border: 1px dashed var(--sklearn-color-line);\n",
              "  margin: 0 0.4em 0.5em 0.4em;\n",
              "  box-sizing: border-box;\n",
              "  padding-bottom: 0.4em;\n",
              "  background-color: var(--sklearn-color-background);\n",
              "}\n",
              "\n",
              "#sk-container-id-1 div.sk-container {\n",
              "  /* jupyter's `normalize.less` sets `[hidden] { display: none; }`\n",
              "     but bootstrap.min.css set `[hidden] { display: none !important; }`\n",
              "     so we also need the `!important` here to be able to override the\n",
              "     default hidden behavior on the sphinx rendered scikit-learn.org.\n",
              "     See: https://github.com/scikit-learn/scikit-learn/issues/21755 */\n",
              "  display: inline-block !important;\n",
              "  position: relative;\n",
              "}\n",
              "\n",
              "#sk-container-id-1 div.sk-text-repr-fallback {\n",
              "  display: none;\n",
              "}\n",
              "\n",
              "div.sk-parallel-item,\n",
              "div.sk-serial,\n",
              "div.sk-item {\n",
              "  /* draw centered vertical line to link estimators */\n",
              "  background-image: linear-gradient(var(--sklearn-color-text-on-default-background), var(--sklearn-color-text-on-default-background));\n",
              "  background-size: 2px 100%;\n",
              "  background-repeat: no-repeat;\n",
              "  background-position: center center;\n",
              "}\n",
              "\n",
              "/* Parallel-specific style estimator block */\n",
              "\n",
              "#sk-container-id-1 div.sk-parallel-item::after {\n",
              "  content: \"\";\n",
              "  width: 100%;\n",
              "  border-bottom: 2px solid var(--sklearn-color-text-on-default-background);\n",
              "  flex-grow: 1;\n",
              "}\n",
              "\n",
              "#sk-container-id-1 div.sk-parallel {\n",
              "  display: flex;\n",
              "  align-items: stretch;\n",
              "  justify-content: center;\n",
              "  background-color: var(--sklearn-color-background);\n",
              "  position: relative;\n",
              "}\n",
              "\n",
              "#sk-container-id-1 div.sk-parallel-item {\n",
              "  display: flex;\n",
              "  flex-direction: column;\n",
              "}\n",
              "\n",
              "#sk-container-id-1 div.sk-parallel-item:first-child::after {\n",
              "  align-self: flex-end;\n",
              "  width: 50%;\n",
              "}\n",
              "\n",
              "#sk-container-id-1 div.sk-parallel-item:last-child::after {\n",
              "  align-self: flex-start;\n",
              "  width: 50%;\n",
              "}\n",
              "\n",
              "#sk-container-id-1 div.sk-parallel-item:only-child::after {\n",
              "  width: 0;\n",
              "}\n",
              "\n",
              "/* Serial-specific style estimator block */\n",
              "\n",
              "#sk-container-id-1 div.sk-serial {\n",
              "  display: flex;\n",
              "  flex-direction: column;\n",
              "  align-items: center;\n",
              "  background-color: var(--sklearn-color-background);\n",
              "  padding-right: 1em;\n",
              "  padding-left: 1em;\n",
              "}\n",
              "\n",
              "\n",
              "/* Toggleable style: style used for estimator/Pipeline/ColumnTransformer box that is\n",
              "clickable and can be expanded/collapsed.\n",
              "- Pipeline and ColumnTransformer use this feature and define the default style\n",
              "- Estimators will overwrite some part of the style using the `sk-estimator` class\n",
              "*/\n",
              "\n",
              "/* Pipeline and ColumnTransformer style (default) */\n",
              "\n",
              "#sk-container-id-1 div.sk-toggleable {\n",
              "  /* Default theme specific background. It is overwritten whether we have a\n",
              "  specific estimator or a Pipeline/ColumnTransformer */\n",
              "  background-color: var(--sklearn-color-background);\n",
              "}\n",
              "\n",
              "/* Toggleable label */\n",
              "#sk-container-id-1 label.sk-toggleable__label {\n",
              "  cursor: pointer;\n",
              "  display: flex;\n",
              "  width: 100%;\n",
              "  margin-bottom: 0;\n",
              "  padding: 0.5em;\n",
              "  box-sizing: border-box;\n",
              "  text-align: center;\n",
              "  align-items: start;\n",
              "  justify-content: space-between;\n",
              "  gap: 0.5em;\n",
              "}\n",
              "\n",
              "#sk-container-id-1 label.sk-toggleable__label .caption {\n",
              "  font-size: 0.6rem;\n",
              "  font-weight: lighter;\n",
              "  color: var(--sklearn-color-text-muted);\n",
              "}\n",
              "\n",
              "#sk-container-id-1 label.sk-toggleable__label-arrow:before {\n",
              "  /* Arrow on the left of the label */\n",
              "  content: \"▸\";\n",
              "  float: left;\n",
              "  margin-right: 0.25em;\n",
              "  color: var(--sklearn-color-icon);\n",
              "}\n",
              "\n",
              "#sk-container-id-1 label.sk-toggleable__label-arrow:hover:before {\n",
              "  color: var(--sklearn-color-text);\n",
              "}\n",
              "\n",
              "/* Toggleable content - dropdown */\n",
              "\n",
              "#sk-container-id-1 div.sk-toggleable__content {\n",
              "  max-height: 0;\n",
              "  max-width: 0;\n",
              "  overflow: hidden;\n",
              "  text-align: left;\n",
              "  /* unfitted */\n",
              "  background-color: var(--sklearn-color-unfitted-level-0);\n",
              "}\n",
              "\n",
              "#sk-container-id-1 div.sk-toggleable__content.fitted {\n",
              "  /* fitted */\n",
              "  background-color: var(--sklearn-color-fitted-level-0);\n",
              "}\n",
              "\n",
              "#sk-container-id-1 div.sk-toggleable__content pre {\n",
              "  margin: 0.2em;\n",
              "  border-radius: 0.25em;\n",
              "  color: var(--sklearn-color-text);\n",
              "  /* unfitted */\n",
              "  background-color: var(--sklearn-color-unfitted-level-0);\n",
              "}\n",
              "\n",
              "#sk-container-id-1 div.sk-toggleable__content.fitted pre {\n",
              "  /* unfitted */\n",
              "  background-color: var(--sklearn-color-fitted-level-0);\n",
              "}\n",
              "\n",
              "#sk-container-id-1 input.sk-toggleable__control:checked~div.sk-toggleable__content {\n",
              "  /* Expand drop-down */\n",
              "  max-height: 200px;\n",
              "  max-width: 100%;\n",
              "  overflow: auto;\n",
              "}\n",
              "\n",
              "#sk-container-id-1 input.sk-toggleable__control:checked~label.sk-toggleable__label-arrow:before {\n",
              "  content: \"▾\";\n",
              "}\n",
              "\n",
              "/* Pipeline/ColumnTransformer-specific style */\n",
              "\n",
              "#sk-container-id-1 div.sk-label input.sk-toggleable__control:checked~label.sk-toggleable__label {\n",
              "  color: var(--sklearn-color-text);\n",
              "  background-color: var(--sklearn-color-unfitted-level-2);\n",
              "}\n",
              "\n",
              "#sk-container-id-1 div.sk-label.fitted input.sk-toggleable__control:checked~label.sk-toggleable__label {\n",
              "  background-color: var(--sklearn-color-fitted-level-2);\n",
              "}\n",
              "\n",
              "/* Estimator-specific style */\n",
              "\n",
              "/* Colorize estimator box */\n",
              "#sk-container-id-1 div.sk-estimator input.sk-toggleable__control:checked~label.sk-toggleable__label {\n",
              "  /* unfitted */\n",
              "  background-color: var(--sklearn-color-unfitted-level-2);\n",
              "}\n",
              "\n",
              "#sk-container-id-1 div.sk-estimator.fitted input.sk-toggleable__control:checked~label.sk-toggleable__label {\n",
              "  /* fitted */\n",
              "  background-color: var(--sklearn-color-fitted-level-2);\n",
              "}\n",
              "\n",
              "#sk-container-id-1 div.sk-label label.sk-toggleable__label,\n",
              "#sk-container-id-1 div.sk-label label {\n",
              "  /* The background is the default theme color */\n",
              "  color: var(--sklearn-color-text-on-default-background);\n",
              "}\n",
              "\n",
              "/* On hover, darken the color of the background */\n",
              "#sk-container-id-1 div.sk-label:hover label.sk-toggleable__label {\n",
              "  color: var(--sklearn-color-text);\n",
              "  background-color: var(--sklearn-color-unfitted-level-2);\n",
              "}\n",
              "\n",
              "/* Label box, darken color on hover, fitted */\n",
              "#sk-container-id-1 div.sk-label.fitted:hover label.sk-toggleable__label.fitted {\n",
              "  color: var(--sklearn-color-text);\n",
              "  background-color: var(--sklearn-color-fitted-level-2);\n",
              "}\n",
              "\n",
              "/* Estimator label */\n",
              "\n",
              "#sk-container-id-1 div.sk-label label {\n",
              "  font-family: monospace;\n",
              "  font-weight: bold;\n",
              "  display: inline-block;\n",
              "  line-height: 1.2em;\n",
              "}\n",
              "\n",
              "#sk-container-id-1 div.sk-label-container {\n",
              "  text-align: center;\n",
              "}\n",
              "\n",
              "/* Estimator-specific */\n",
              "#sk-container-id-1 div.sk-estimator {\n",
              "  font-family: monospace;\n",
              "  border: 1px dotted var(--sklearn-color-border-box);\n",
              "  border-radius: 0.25em;\n",
              "  box-sizing: border-box;\n",
              "  margin-bottom: 0.5em;\n",
              "  /* unfitted */\n",
              "  background-color: var(--sklearn-color-unfitted-level-0);\n",
              "}\n",
              "\n",
              "#sk-container-id-1 div.sk-estimator.fitted {\n",
              "  /* fitted */\n",
              "  background-color: var(--sklearn-color-fitted-level-0);\n",
              "}\n",
              "\n",
              "/* on hover */\n",
              "#sk-container-id-1 div.sk-estimator:hover {\n",
              "  /* unfitted */\n",
              "  background-color: var(--sklearn-color-unfitted-level-2);\n",
              "}\n",
              "\n",
              "#sk-container-id-1 div.sk-estimator.fitted:hover {\n",
              "  /* fitted */\n",
              "  background-color: var(--sklearn-color-fitted-level-2);\n",
              "}\n",
              "\n",
              "/* Specification for estimator info (e.g. \"i\" and \"?\") */\n",
              "\n",
              "/* Common style for \"i\" and \"?\" */\n",
              "\n",
              ".sk-estimator-doc-link,\n",
              "a:link.sk-estimator-doc-link,\n",
              "a:visited.sk-estimator-doc-link {\n",
              "  float: right;\n",
              "  font-size: smaller;\n",
              "  line-height: 1em;\n",
              "  font-family: monospace;\n",
              "  background-color: var(--sklearn-color-background);\n",
              "  border-radius: 1em;\n",
              "  height: 1em;\n",
              "  width: 1em;\n",
              "  text-decoration: none !important;\n",
              "  margin-left: 0.5em;\n",
              "  text-align: center;\n",
              "  /* unfitted */\n",
              "  border: var(--sklearn-color-unfitted-level-1) 1pt solid;\n",
              "  color: var(--sklearn-color-unfitted-level-1);\n",
              "}\n",
              "\n",
              ".sk-estimator-doc-link.fitted,\n",
              "a:link.sk-estimator-doc-link.fitted,\n",
              "a:visited.sk-estimator-doc-link.fitted {\n",
              "  /* fitted */\n",
              "  border: var(--sklearn-color-fitted-level-1) 1pt solid;\n",
              "  color: var(--sklearn-color-fitted-level-1);\n",
              "}\n",
              "\n",
              "/* On hover */\n",
              "div.sk-estimator:hover .sk-estimator-doc-link:hover,\n",
              ".sk-estimator-doc-link:hover,\n",
              "div.sk-label-container:hover .sk-estimator-doc-link:hover,\n",
              ".sk-estimator-doc-link:hover {\n",
              "  /* unfitted */\n",
              "  background-color: var(--sklearn-color-unfitted-level-3);\n",
              "  color: var(--sklearn-color-background);\n",
              "  text-decoration: none;\n",
              "}\n",
              "\n",
              "div.sk-estimator.fitted:hover .sk-estimator-doc-link.fitted:hover,\n",
              ".sk-estimator-doc-link.fitted:hover,\n",
              "div.sk-label-container:hover .sk-estimator-doc-link.fitted:hover,\n",
              ".sk-estimator-doc-link.fitted:hover {\n",
              "  /* fitted */\n",
              "  background-color: var(--sklearn-color-fitted-level-3);\n",
              "  color: var(--sklearn-color-background);\n",
              "  text-decoration: none;\n",
              "}\n",
              "\n",
              "/* Span, style for the box shown on hovering the info icon */\n",
              ".sk-estimator-doc-link span {\n",
              "  display: none;\n",
              "  z-index: 9999;\n",
              "  position: relative;\n",
              "  font-weight: normal;\n",
              "  right: .2ex;\n",
              "  padding: .5ex;\n",
              "  margin: .5ex;\n",
              "  width: min-content;\n",
              "  min-width: 20ex;\n",
              "  max-width: 50ex;\n",
              "  color: var(--sklearn-color-text);\n",
              "  box-shadow: 2pt 2pt 4pt #999;\n",
              "  /* unfitted */\n",
              "  background: var(--sklearn-color-unfitted-level-0);\n",
              "  border: .5pt solid var(--sklearn-color-unfitted-level-3);\n",
              "}\n",
              "\n",
              ".sk-estimator-doc-link.fitted span {\n",
              "  /* fitted */\n",
              "  background: var(--sklearn-color-fitted-level-0);\n",
              "  border: var(--sklearn-color-fitted-level-3);\n",
              "}\n",
              "\n",
              ".sk-estimator-doc-link:hover span {\n",
              "  display: block;\n",
              "}\n",
              "\n",
              "/* \"?\"-specific style due to the `<a>` HTML tag */\n",
              "\n",
              "#sk-container-id-1 a.estimator_doc_link {\n",
              "  float: right;\n",
              "  font-size: 1rem;\n",
              "  line-height: 1em;\n",
              "  font-family: monospace;\n",
              "  background-color: var(--sklearn-color-background);\n",
              "  border-radius: 1rem;\n",
              "  height: 1rem;\n",
              "  width: 1rem;\n",
              "  text-decoration: none;\n",
              "  /* unfitted */\n",
              "  color: var(--sklearn-color-unfitted-level-1);\n",
              "  border: var(--sklearn-color-unfitted-level-1) 1pt solid;\n",
              "}\n",
              "\n",
              "#sk-container-id-1 a.estimator_doc_link.fitted {\n",
              "  /* fitted */\n",
              "  border: var(--sklearn-color-fitted-level-1) 1pt solid;\n",
              "  color: var(--sklearn-color-fitted-level-1);\n",
              "}\n",
              "\n",
              "/* On hover */\n",
              "#sk-container-id-1 a.estimator_doc_link:hover {\n",
              "  /* unfitted */\n",
              "  background-color: var(--sklearn-color-unfitted-level-3);\n",
              "  color: var(--sklearn-color-background);\n",
              "  text-decoration: none;\n",
              "}\n",
              "\n",
              "#sk-container-id-1 a.estimator_doc_link.fitted:hover {\n",
              "  /* fitted */\n",
              "  background-color: var(--sklearn-color-fitted-level-3);\n",
              "}\n",
              "</style><div id=\"sk-container-id-1\" class=\"sk-top-container\"><div class=\"sk-text-repr-fallback\"><pre>LogisticRegression()</pre><b>In a Jupyter environment, please rerun this cell to show the HTML representation or trust the notebook. <br />On GitHub, the HTML representation is unable to render, please try loading this page with nbviewer.org.</b></div><div class=\"sk-container\" hidden><div class=\"sk-item\"><div class=\"sk-estimator fitted sk-toggleable\"><input class=\"sk-toggleable__control sk-hidden--visually\" id=\"sk-estimator-id-1\" type=\"checkbox\" checked><label for=\"sk-estimator-id-1\" class=\"sk-toggleable__label fitted sk-toggleable__label-arrow\"><div><div>LogisticRegression</div></div><div><a class=\"sk-estimator-doc-link fitted\" rel=\"noreferrer\" target=\"_blank\" href=\"https://scikit-learn.org/1.6/modules/generated/sklearn.linear_model.LogisticRegression.html\">?<span>Documentation for LogisticRegression</span></a><span class=\"sk-estimator-doc-link fitted\">i<span>Fitted</span></span></div></label><div class=\"sk-toggleable__content fitted\"><pre>LogisticRegression()</pre></div> </div></div></div></div>"
            ],
            "text/plain": [
              "LogisticRegression()"
            ]
          },
          "execution_count": 74,
          "metadata": {},
          "output_type": "execute_result"
        }
      ],
      "source": [
        "model.fit(x_train, y_train)"
      ]
    },
    {
      "cell_type": "code",
      "execution_count": null,
      "metadata": {
        "colab": {
          "base_uri": "https://localhost:8080/"
        },
        "id": "w7wfwDnkr_um",
        "outputId": "f288b5a6-d276-4923-b84b-b37ecddf1bc7"
      },
      "outputs": [
        {
          "name": "stdout",
          "output_type": "stream",
          "text": [
            "0.9785802553892626\n"
          ]
        }
      ],
      "source": [
        "#training accuracy\n",
        "train_predict = model.predict(x_train)\n",
        "train_accuracy = accuracy_score(train_predict, y_train)\n",
        "print(train_accuracy)"
      ]
    },
    {
      "cell_type": "code",
      "execution_count": null,
      "metadata": {
        "colab": {
          "base_uri": "https://localhost:8080/"
        },
        "id": "f5-P9DHxsvHf",
        "outputId": "a782459d-c991-4ae8-e5e0-24c11cda0dca"
      },
      "outputs": [
        {
          "name": "stdout",
          "output_type": "stream",
          "text": [
            "0.9634816035145525\n"
          ]
        }
      ],
      "source": [
        "test_predict = model.predict(x_test)\n",
        "test_accuracy = accuracy_score(test_predict, y_test)\n",
        "print(test_accuracy)"
      ]
    },
    {
      "cell_type": "code",
      "execution_count": null,
      "metadata": {
        "id": "Oj9izSurtFa0"
      },
      "outputs": [],
      "source": []
    }
  ],
  "metadata": {
    "colab": {
      "provenance": []
    },
    "kernelspec": {
      "display_name": "Python 3",
      "name": "python3"
    },
    "language_info": {
      "name": "python"
    }
  },
  "nbformat": 4,
  "nbformat_minor": 0
}
